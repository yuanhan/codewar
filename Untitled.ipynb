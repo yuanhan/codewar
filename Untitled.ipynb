{
 "cells": [
  {
   "cell_type": "code",
   "execution_count": 1,
   "metadata": {
    "collapsed": true
   },
   "outputs": [],
   "source": [
    "def abbreviate(s):\n",
    "    word = [-1]\n",
    "    abb = ''\n",
    "    for i in range(len(s)):\n",
    "        if s[i].upper() == s[i].lower():\n",
    "            word.append(i)\n",
    "    if word == [-1]:\n",
    "        return s[0] + str(len(s) - 2) + s[len(s) - 1]\n",
    "    for i in range(1, len(word)):\n",
    "        if word[i] - word[i - 1] == 1:\n",
    "            abb += s[word[i]]\n",
    "        elif word[i] - word[i - 1] < 5 and word[i] - word[i - 1] > 1:\n",
    "            abb += s[(word[i - 1] + 1):(word[i] + 1)]\n",
    "        else:\n",
    "            abb += s[word[i - 1] + 1]\n",
    "            abb += str(word[i] - word[i - 1] - 3)\n",
    "            abb += s[word[i] - 1]\n",
    "            abb += s[word[i]]\n",
    "    return abb"
   ]
  },
  {
   "cell_type": "code",
   "execution_count": 2,
   "metadata": {
    "collapsed": false
   },
   "outputs": [
    {
     "data": {
      "text/plain": [
       "'a2f s3d s3d '"
      ]
     },
     "execution_count": 2,
     "metadata": {},
     "output_type": "execute_result"
    }
   ],
   "source": [
    "abbreviate('asdf sdfsd sdfsd fa')"
   ]
  },
  {
   "cell_type": "code",
   "execution_count": 4,
   "metadata": {
    "collapsed": false
   },
   "outputs": [
    {
     "data": {
      "text/plain": [
       "'i18n '"
      ]
     },
     "execution_count": 4,
     "metadata": {},
     "output_type": "execute_result"
    }
   ],
   "source": [
    "abbreviate('internationalization internationalizationX')"
   ]
  },
  {
   "cell_type": "code",
   "execution_count": null,
   "metadata": {
    "collapsed": true
   },
   "outputs": [],
   "source": []
  }
 ],
 "metadata": {
  "kernelspec": {
   "display_name": "Python [Root]",
   "language": "python",
   "name": "Python [Root]"
  },
  "language_info": {
   "codemirror_mode": {
    "name": "ipython",
    "version": 3
   },
   "file_extension": ".py",
   "mimetype": "text/x-python",
   "name": "python",
   "nbconvert_exporter": "python",
   "pygments_lexer": "ipython3",
   "version": "3.5.2"
  }
 },
 "nbformat": 4,
 "nbformat_minor": 0
}
